{
 "cells": [
  {
   "cell_type": "markdown",
   "metadata": {},
   "source": [
    "# 🔍 Building an AI-Powered Web Search Agent with OpenAI and Tavily 🚀\n",
    "\n",
    "Hey there! Welcome to this exciting guide where we'll create something awesome - a smart search agent that combines the power of OpenAI's language models with Tavily's search capabilities! 🌟 \n",
    "\n",
    "## 🎯 What We'll Build\n",
    "\n",
    "We're going to create a super cool search agent that can:\n",
    "1. 🌐 Search the web in real-time for accurate information\n",
    "2. 🧠 Use OpenAI's powerful GPT models to understand and process search results\n",
    "3. ⚡ Provide contextual and up-to-date responses to queries\n",
    "\n",
    "## ✅ Prerequisites\n",
    "\n",
    "Before we jump in, make sure you have these things ready:\n",
    "- 🔑 An OpenAI API key\n",
    "- 🎯 A Tavily API key (get one at tavily.com)\n",
    "\n",
    "## 🎮 Part 1: Setting Up Our Environment\n",
    "\n",
    "First things first - let's get our tools ready! We'll need to install the Tavily Python package to interact with their search API:\n"
   ]
  },
  {
   "cell_type": "code",
   "execution_count": 1,
   "metadata": {},
   "outputs": [
    {
     "name": "stdout",
     "output_type": "stream",
     "text": [
      "Requirement already satisfied: tavily-python in ./.venv/lib/python3.12/site-packages (0.5.1)\n",
      "Requirement already satisfied: requests in ./.venv/lib/python3.12/site-packages (from tavily-python) (2.32.3)\n",
      "Requirement already satisfied: tiktoken>=0.5.1 in ./.venv/lib/python3.12/site-packages (from tavily-python) (0.9.0)\n",
      "Requirement already satisfied: httpx in ./.venv/lib/python3.12/site-packages (from tavily-python) (0.28.1)\n",
      "Requirement already satisfied: regex>=2022.1.18 in ./.venv/lib/python3.12/site-packages (from tiktoken>=0.5.1->tavily-python) (2024.11.6)\n",
      "Requirement already satisfied: charset-normalizer<4,>=2 in ./.venv/lib/python3.12/site-packages (from requests->tavily-python) (3.4.1)\n",
      "Requirement already satisfied: idna<4,>=2.5 in ./.venv/lib/python3.12/site-packages (from requests->tavily-python) (3.10)\n",
      "Requirement already satisfied: urllib3<3,>=1.21.1 in ./.venv/lib/python3.12/site-packages (from requests->tavily-python) (2.3.0)\n",
      "Requirement already satisfied: certifi>=2017.4.17 in ./.venv/lib/python3.12/site-packages (from requests->tavily-python) (2025.1.31)\n",
      "Requirement already satisfied: anyio in ./.venv/lib/python3.12/site-packages (from httpx->tavily-python) (4.8.0)\n",
      "Requirement already satisfied: httpcore==1.* in ./.venv/lib/python3.12/site-packages (from httpx->tavily-python) (1.0.7)\n",
      "Requirement already satisfied: h11<0.15,>=0.13 in ./.venv/lib/python3.12/site-packages (from httpcore==1.*->httpx->tavily-python) (0.14.0)\n",
      "Requirement already satisfied: sniffio>=1.1 in ./.venv/lib/python3.12/site-packages (from anyio->httpx->tavily-python) (1.3.1)\n",
      "Requirement already satisfied: typing_extensions>=4.5 in ./.venv/lib/python3.12/site-packages (from anyio->httpx->tavily-python) (4.12.2)\n",
      "\n",
      "\u001b[1m[\u001b[0m\u001b[34;49mnotice\u001b[0m\u001b[1;39;49m]\u001b[0m\u001b[39;49m A new release of pip is available: \u001b[0m\u001b[31;49m24.2\u001b[0m\u001b[39;49m -> \u001b[0m\u001b[32;49m25.0.1\u001b[0m\n",
      "\u001b[1m[\u001b[0m\u001b[34;49mnotice\u001b[0m\u001b[1;39;49m]\u001b[0m\u001b[39;49m To update, run: \u001b[0m\u001b[32;49mpip install --upgrade pip\u001b[0m\n",
      "Note: you may need to restart the kernel to use updated packages.\n"
     ]
    }
   ],
   "source": [
    "%pip install tavily-python"
   ]
  },
  {
   "cell_type": "markdown",
   "metadata": {},
   "source": [
    "\n",
    "Now, let's set up our API keys (remember to keep these safe and never share them!):\n"
   ]
  },
  {
   "cell_type": "code",
   "execution_count": 11,
   "metadata": {},
   "outputs": [],
   "source": [
    "TAVILY_API = \"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\""
   ]
  },
  {
   "cell_type": "markdown",
   "metadata": {},
   "source": [
    "\n",
    "## 🛠️ Part 2: Building Our Search Tools\n",
    "\n",
    "Let's create the foundation of our search agent! We'll define a set of tools that our AI can use to search the web:"
   ]
  },
  {
   "cell_type": "code",
   "execution_count": 3,
   "metadata": {},
   "outputs": [],
   "source": [
    "import json\n",
    "from openai import OpenAI\n",
    "from tavily import TavilyClient"
   ]
  },
  {
   "cell_type": "code",
   "execution_count": 12,
   "metadata": {},
   "outputs": [
    {
     "data": {
      "text/plain": [
       "{'query': 'Whats the current weather in Tokyo',\n",
       " 'follow_up_questions': None,\n",
       " 'answer': None,\n",
       " 'images': [],\n",
       " 'results': [{'title': 'Weather in Tokyo',\n",
       "   'url': 'https://www.weatherapi.com/',\n",
       "   'content': \"{'location': {'name': 'Tokyo', 'region': 'Tokyo', 'country': 'Japan', 'lat': 35.6895, 'lon': 139.6917, 'tz_id': 'Asia/Tokyo', 'localtime_epoch': 1739884591, 'localtime': '2025-02-18 22:16'}, 'current': {'last_updated_epoch': 1739884500, 'last_updated': '2025-02-18 22:15', 'temp_c': 5.3, 'temp_f': 41.5, 'is_day': 0, 'condition': {'text': 'Partly cloudy', 'icon': '//cdn.weatherapi.com/weather/64x64/night/116.png', 'code': 1003}, 'wind_mph': 11.9, 'wind_kph': 19.1, 'wind_degree': 357, 'wind_dir': 'N', 'pressure_mb': 1010.0, 'pressure_in': 29.83, 'precip_mm': 0.01, 'precip_in': 0.0, 'humidity': 45, 'cloud': 25, 'feelslike_c': 1.6, 'feelslike_f': 34.8, 'windchill_c': 0.7, 'windchill_f': 33.3, 'heatindex_c': 4.6, 'heatindex_f': 40.3, 'dewpoint_c': -10.3, 'dewpoint_f': 13.5, 'vis_km': 10.0, 'vis_miles': 6.0, 'uv': 0.0, 'gust_mph': 15.4, 'gust_kph': 24.8}}\",\n",
       "   'score': 0.887989,\n",
       "   'raw_content': None},\n",
       "  {'title': 'Weather in Tokyo in February 2025 (Tōkyō-to) - Detailed Weather ...',\n",
       "   'url': 'https://world-weather.info/forecast/japan/tokyo/february-2025/',\n",
       "   'content': \"Weather in Tokyo in February 2025 (Tōkyō-to) - Detailed Weather Forecast for a Month Add the current city Search Weather World Tōkyō-to Weather in Tokyo Weather in Tokyo in February 2025 Tokyo Weather Forecast for February 2025, is based on previous years' statistical data. February +50°+41° +48°+41° +50°+41° +50°+43° +48°+41° +50°+41° +52°+41° +50°+43° +50°+41° +50°+41° +50°+41° +50°+41° +52°+43° +54°+45° +54°+45° +50°+43° +52°+43° +52°+41° +54°+45° +54°+45° +52°+45° +54°+45° +54°+45° +52°+43° +52°+45° +54°+45° +52°+43° +52°+41° Extended weather forecast in Tokyo HourlyWeek10-Day14-Day30-DayYear Weather in large and nearby cities Kawaguchi+43° Fuchū+43° Kashiwa+45° Tokorozawa+41° Kasukabe+45° Ageo+43° Kawagoe+43° Yokohama+45° Machida+43° Kawasaki+46° Kodaira+41° Funabashi+45° Nerima+43° Sōka+43° Ichikawa+45° Matsudo+43° Koshigaya+43° Kami-renjaku+43° world's temperature today day day City or place… Copyright © 2024 «World-Weather.info» All rights reserved. Temperature units\",\n",
       "   'score': 0.8747745,\n",
       "   'raw_content': None},\n",
       "  {'title': 'Weather in Tokyo - Climate monitor on February 2025 - Weather and Climate',\n",
       "   'url': 'https://www.weatherandclimate.info/monitor/47662',\n",
       "   'content': 'WEATHER IN TOKYO Weather forecast in Tokyo Current weather in Tokyo Weather archive in Tokyo Weather history in Tokyo WEATHER IN TOKYO Weather in Tokyo. The table shows the main characteristics of weather in Tokyo - air temperature and precipitation shown for each day of february 2025. Monthly mean temperature normal for February: 6.7°C. The lowest minimum temperature (-0.6°C) recorded on February 6. The highest maximum temperature (12.2°C) recorded on February 1. The values of air temperature and precipitation in the table are given for the meteorological day, which starts in Tokyo at 12 h. For monitoring of weather in Tokyo, daily data is taken for the period 1953-2025 years. Monthly weather records',\n",
       "   'score': 0.8724455,\n",
       "   'raw_content': None},\n",
       "  {'title': 'Tokyo weather in February 2025 - METEOPROG.COM',\n",
       "   'url': 'https://www.meteoprog.com/weather/Tokyo/month/february/',\n",
       "   'content': 'Tokyo weather in February 2025 ⋆ Tokyo temperature in February ≡ Weather forecast in Japan | METEOPROG Weather in Japan Weather Widgets Русский (UA) Русский WEATHER 7-day Forecast Weather on a map Weather Widget Русский (UA) Русский 2 Weeks Tokyo weather in February 2025 February in Tokyo Max. temperature +22.7°C Min. temperature -10.2°C +5° +5° +2° 0° -3° +1° +2° -2° +5° -1° -2° -1° +1° +5° Weather Weather in Japan Monthly weather forecast in Tokyo Weather in February 2 Weeks Weather Widgets Editorial policy Hyperlink to Meteoprog.com is required when using materials from the site. The editorial staff of the project may not share the opinion of the authors and is not responsible for copyrighted materials. Русский (UA) Русский',\n",
       "   'score': 0.86441374,\n",
       "   'raw_content': None},\n",
       "  {'title': 'Tokyo weather in February 2025 | Tokyo 14 day weather',\n",
       "   'url': 'https://www.weather25.com/asia/japan/tokyo?page=month&month=February',\n",
       "   'content': 'Tokyo weather in February 2025 | Tokyo 14 day weather Tokyo  Tokyo Tokyo weather in February 2025 🌨️ Snowy days in Tokyo 2025 (February) The average weather in Tokyo in February You can expect a few days of snow in Tokyo during February. | Tokyo in February | | Tokyo in May | Temperatures in Tokyo in February Weather in Tokyo in February - FAQ The average temperature in Tokyo in February is 3/10° C. On average, there are 6 rainy days in Tokyo during February. The weather in Tokyo in February is bad. On average, there are 5 snowy days in Tokyo in February. More about the weather in Tokyo',\n",
       "   'score': 0.8380581,\n",
       "   'raw_content': None}],\n",
       " 'response_time': 1.22}"
      ]
     },
     "execution_count": 12,
     "metadata": {},
     "output_type": "execute_result"
    }
   ],
   "source": [
    "# Initialize Tavily\n",
    "tavily = TavilyClient(api_key=TAVILY_API)\n",
    "\n",
    "# Search query\n",
    "query = \"Whats the current weather in Tokyo\"\n",
    "tavily.search(query, search_depth=\"basic\")"
   ]
  },
  {
   "cell_type": "code",
   "execution_count": 5,
   "metadata": {},
   "outputs": [],
   "source": [
    "TOOLS = [\n",
    "    {\n",
    "        \"type\": \"function\",\n",
    "        \"function\": {\n",
    "            \"name\": \"web_search\",\n",
    "            \"description\": \"Search the web for information\",\n",
    "            \"parameters\": {\n",
    "                \"type\": \"object\",\n",
    "                \"properties\": {\n",
    "                    \"query\": {\"type\": \"string\"}\n",
    "                },\n",
    "                \"required\": [\"query\"]\n",
    "            },\n",
    "        },\n",
    "    },\n",
    "]"
   ]
  },
  {
   "cell_type": "code",
   "execution_count": 6,
   "metadata": {},
   "outputs": [],
   "source": [
    "def search_web(query):\n",
    "    # Initialize Tavily\n",
    "    tavily = TavilyClient(api_key=TAVILY_API)\n",
    "    return \"\\n\".join(result[\"content\"] for result in tavily.search(query, search_depth=\"basic\")[\"results\"])"
   ]
  },
  {
   "cell_type": "code",
   "execution_count": 7,
   "metadata": {},
   "outputs": [
    {
     "data": {
      "text/plain": [
       "\"{'location': {'name': 'Tokyo', 'region': 'Tokyo', 'country': 'Japan', 'lat': 35.6895, 'lon': 139.6917, 'tz_id': 'Asia/Tokyo', 'localtime_epoch': 1739880049, 'localtime': '2025-02-18 21:00'}, 'current': {'last_updated_epoch': 1739880000, 'last_updated': '2025-02-18 21:00', 'temp_c': 6.3, 'temp_f': 43.3, 'is_day': 0, 'condition': {'text': 'Partly cloudy', 'icon': '//cdn.weatherapi.com/weather/64x64/night/116.png', 'code': 1003}, 'wind_mph': 11.9, 'wind_kph': 19.1, 'wind_degree': 351, 'wind_dir': 'N', 'pressure_mb': 1010.0, 'pressure_in': 29.83, 'precip_mm': 0.03, 'precip_in': 0.0, 'humidity': 39, 'cloud': 75, 'feelslike_c': 2.8, 'feelslike_f': 37.1, 'windchill_c': 0.8, 'windchill_f': 33.5, 'heatindex_c': 4.7, 'heatindex_f': 40.5, 'dewpoint_c': -9.5, 'dewpoint_f': 15.0, 'vis_km': 10.0, 'vis_miles': 6.0, 'uv': 0.0, 'gust_mph': 15.2, 'gust_kph': 24.4}}\\nWEATHER IN TOKYO Weather forecast in Tokyo Current weather in Tokyo Weather archive in Tokyo Weather history in Tokyo Weather summary in Tokyo WEATHER IN TOKYO Weather in Tokyo. The table shows the main characteristics of weather in Tokyo - air temperature and precipitation shown for each day of february 2025. Monthly mean temperature normal for February: 6.7°. The lowest minimum temperature (-0.6°) recorded on February 6. The values of air temperature and precipitation in the table are given for the meteorological day, which starts in Tokyo at 12 h. For monitoring of weather in Tokyo, daily data is taken for the period 1953-2025 years. Monthly data is taken for the period 1876-2025 years - air temperature, 1875-2025 years - precipitation. Monthly weather records\\nWeather in Tokyo in February 2025 (Tōkyō-to) - Detailed Weather Forecast for a Month Add the current city Search Weather World Tōkyō-to Weather in Tokyo Weather in Tokyo in February 2025 Tokyo Weather Forecast for February 2025, is based on previous years' statistical data. February +50°+41° +48°+41° +50°+41° +50°+43° +48°+41° +50°+41° +52°+41° +50°+43° +50°+41° +50°+41° +50°+41° +50°+41° +52°+43° +54°+45° +54°+45° +50°+43° +52°+43° +52°+41° +54°+45° +54°+45° +52°+45° +54°+45° +54°+45° +52°+43° +52°+45° +54°+45° +52°+43° +52°+41° Extended weather forecast in Tokyo HourlyWeek10-Day14-Day30-DayYear Weather in large and nearby cities Kawaguchi+43° Fuchū+43° Kashiwa+45° Tokorozawa+41° Kasukabe+45° Ageo+43° Kawagoe+43° Yokohama+45° Machida+43° Kawasaki+46° Kodaira+41° Funabashi+45° Nerima+43° Sōka+43° Ichikawa+45° Matsudo+43° Koshigaya+43° Kami-renjaku+43° world's temperature today day day City or place… Copyright © 2024 «World-Weather.info» All rights reserved. Temperature units\\nTokyo weather in February 2025 ⋆ Tokyo temperature in February ≡ Weather forecast in Japan | METEOPROG Weather in Japan Weather Widgets Русский (UA) Русский WEATHER 7-day Forecast Weather on a map Weather Widget Русский (UA) Русский 2 Weeks Tokyo weather in February 2025 February in Tokyo Max. temperature +22.7°C Min. temperature -10.2°C +5° +5° +2° 0° -3° +1° +2° -2° +5° -1° -2° -1° +1° +5° Weather Weather in Japan Monthly weather forecast in Tokyo Weather in February 2 Weeks Weather Widgets Editorial policy Hyperlink to Meteoprog.com is required when using materials from the site. The editorial staff of the project may not share the opinion of the authors and is not responsible for copyrighted materials. Русский (UA) Русский\\nTokyo weather in February 2025 | Tokyo 14 day weather Tokyo  Tokyo Tokyo weather in February 2025 🌨️ Snowy days in Tokyo 2025 (February) The average weather in Tokyo in February You can expect a few days of snow in Tokyo during February. | Tokyo in February | | Tokyo in May | Temperatures in Tokyo in February Weather in Tokyo in February - FAQ The average temperature in Tokyo in February is 3/10° C. On average, there are 6 rainy days in Tokyo during February. The weather in Tokyo in February is bad. On average, there are 5 snowy days in Tokyo in February. More about the weather in Tokyo\""
      ]
     },
     "execution_count": 7,
     "metadata": {},
     "output_type": "execute_result"
    }
   ],
   "source": [
    "search_web(\"What is the current weather in Tokyo\")"
   ]
  },
  {
   "cell_type": "markdown",
   "metadata": {},
   "source": [
    "\n",
    "## 🎓 Part 3: Creating Our AI Agent\n",
    "\n",
    "Now comes the exciting part! Let's create our AI agent that can understand questions and use our search tools to find answers:\n"
   ]
  },
  {
   "cell_type": "code",
   "execution_count": 35,
   "metadata": {},
   "outputs": [],
   "source": [
    "from datetime import datetime\n",
    "messages = [\n",
    "    {\"role\": \"system\", \"content\": f\"You are a helpful assistant that can search the web for information that requires real-time data. Current date: {datetime.now().strftime('%Y-%m-%d')}\"},\n",
    "    {\"role\": \"user\", \"content\": \"What active volcanoes are there in the world? Any current risk of eruption?\"}\n",
    "]"
   ]
  },
  {
   "cell_type": "code",
   "execution_count": 36,
   "metadata": {},
   "outputs": [],
   "source": [
    "def invoke_model(messages):\n",
    "    # Initialize the OpenAI client\n",
    "    client = OpenAI()\n",
    "\n",
    "    # Make a ChatGPT API call with tool calling\n",
    "    completion = client.chat.completions.create(\n",
    "        model=\"gpt-4o-mini\",\n",
    "        messages=messages\n",
    "    )\n",
    "\n",
    "    return completion.choices[0].message.content"
   ]
  },
  {
   "cell_type": "code",
   "execution_count": 37,
   "metadata": {},
   "outputs": [
    {
     "name": "stdout",
     "output_type": "stream",
     "text": [
      "Searching the web for: {'query': 'active volcanoes around the world 2025 current eruption risk'}\n",
      "As of February 2025, several active volcanoes around the world are either currently erupting or showing signs of increased activity. Here are some notable ones:\n",
      "\n",
      "1. **Mount Etna (Italy)**: One of the most active volcanoes in the world, located on the east coast of Sicily. It has experienced frequent eruptions recently.\n",
      "\n",
      "2. **Santiaguito (Guatemala)**: This volcano is ongoing with its activity and has frequent explosive eruptions.\n",
      "\n",
      "3. **Popocatépetl (Mexico)**: An active stratovolcano that has had increased activity and eruptions, posing risks to nearby populations.\n",
      "\n",
      "4. **Semeru (Indonesia)**: Known for its intermittent eruptions, it has been active recently.\n",
      "\n",
      "5. **Stromboli (Italy)**: This volcano is characterized by its continuous explosions and is a popular site for observing eruptive activity.\n",
      "\n",
      "6. **Ibu (Indonesia)**: Shows ongoing eruptive behavior, requiring monitoring due to its activity.\n",
      "\n",
      "7. **Virunga Volcanoes (Congo)**: Many of these volcanoes, including Nyiragongo, have shown signs of activity.\n",
      "\n",
      "8. **Rincón de la Vieja (Costa Rica)**: It has been showing increased activity, with steam and gas emissions.\n",
      "\n",
      "Several of these volcanoes have current risks of eruption, particularly Popocatépetl due to proximity to populated areas. It's always advisable to consult local geological services or websites that provide real-time monitoring for the latest updates on volcanic activity and safety advisories.\n",
      "\n",
      "For the most accurate and up-to-date information, especially concerning risks of eruptions, checking resources like the US Geological Survey (USGS) or the Global Volcanism Program can be beneficial.\n"
     ]
    }
   ],
   "source": [
    "# Initialize the OpenAI client\n",
    "client = OpenAI()\n",
    "\n",
    "# Make a ChatGPT API call with tool calling\n",
    "completion = client.chat.completions.create(\n",
    "    model=\"gpt-4o-mini\",\n",
    "    tools=TOOLS,\n",
    "    messages=messages\n",
    ")\n",
    "\n",
    "response = completion.choices[0].message\n",
    "\n",
    "# Parse the response to get the tool call arguments\n",
    "if response.tool_calls:\n",
    "    # Process each tool call\n",
    "    for tool_call in response.tool_calls:\n",
    "        # Get the tool call arguments\n",
    "        tool_call_arguments = json.loads(tool_call.function.arguments)\n",
    "        if tool_call.function.name == \"web_search\":\n",
    "            print(\"Searching the web for:\", tool_call_arguments)\n",
    "            search_results = search_web(tool_call_arguments[\"query\"])\n",
    "            messages.append({\"role\": \"assistant\", \"content\": f\"Here are the search results: {search_results}\"})\n",
    "            print(invoke_model(messages))\n",
    "\n",
    "else:\n",
    "    # If there are no tool calls, return the response content\n",
    "    print(response.content)"
   ]
  },
  {
   "cell_type": "code",
   "execution_count": 38,
   "metadata": {},
   "outputs": [
    {
     "data": {
      "text/plain": [
       "[{'role': 'system',\n",
       "  'content': 'You are a helpful assistant that can search the web for information that requires real-time data. Current date: 2025-02-18'},\n",
       " {'role': 'user',\n",
       "  'content': 'What active volcanoes are there in the world? Any current risk of eruption?'},\n",
       " {'role': 'assistant',\n",
       "  'content': \"Here are the search results: Volcanic activity worldwide 12 Feb 2025: Santorini volcano, Etna, Santiaguito, Popocatépetl, Semeru... Volcanic activity worldwide 11 Feb 2025: Etna volcano, Santiaguito, Popocatépetl, Semeru, Ibu, Duko... Volcanic activity worldwide 9 Feb 2025: Santorini volcano, Etna, Santiaguito, Popocatépetl, Semeru,... Volcanic activity worldwide 8 Feb 2025: Santorini volcano, Santiaguito, Popocatépetl, Semeru, Ibu, ... Volcanic activity worldwide 7 Feb 2025: Santorini volcano, Stromboli, Santiaguito, Semeru, Ibu, Mara... Volcanic activity worldwide 6 Feb 2025: Santorini volcano, Santiaguito, Popocatépetl, Semeru, Ibu, ... Volcanic activity worldwide 5 Feb 2025: Santorini volcano, Santiaguito, Popocatépetl, Semeru, Ibu, ... Volcanic activity worldwide 1 Feb 2025: Santiaguito volcano, Popocatépetl, Semeru, Ibu, Reventador,... Volcanic activity worldwide 31 Jan 2025: Santiaguito volcano, Popocatépetl, Semeru, Ibu, Reventador... Volcanic activity worldwide 21 Jan 2025: Santiaguito volcano, Popocatépetl, Semeru, Shiveluch, Ibu,...\\nDaily (static) map of Currently Erupting Active Volcanoes World-wide | VolcanoDiscovery Volcanoes | Volcanoes Today | Geology | Earthquakes | Latest Quakes | Photos | Videos | News | Tours | About Volcanoes Volcano news Which volcanoes are erupting now? Volcanoes & Earthquakes App Currently active (erupting) volcanoes in the world Currently active (erupting) volcanoes in the world 3-17 Oct 2025: Volcanoes of Italy - the Grand Tour - Naples, Eolian Islands, Etna (Italy) We're aiming to achieve uninterrupted service wherever an earthquake or volcano eruption unfolds, and your donations can make it happen! Download and Upgrade the Volcanoes & Earthquakes app to get one of the fastest seismic and volcano alerts online: Volcanoes & Earthquakes Volcanoes | Earthquakes | Photos | Volcano News | App\\nStromboli (Eolian Islands, Italy) Vulcano (Eolian Islands, Italy) Barren Island (Indian Ocean) Indonesia: Merapi (Central Java, Indonesia) Lewotolo (Lesser Sunda Islands, Indonesia) Karangetang (Siau Island, Sangihe Islands, Indonesia) Ruang (Sangihe Islands, Indonesia) Rincón de la Vieja (Costa Rica) White Island (Antarctica) Fernandina (Galápagos Islands, Ecuador) Matthew Island (France, Southwestern Pacific Ocean) Suwanose-jima (Ryukyu Islands, Japan) Iwo-jima (Volcano Islands, Japan) Kikai (Ryukyu Islands, Japan) Nishino-shima (Volcano Islands, Japan) Kuchinoerabu-jima (Ryukyu Islands, Japan) 3-11 May 2025: From Stromboli to Etna - Sicily and Eolian Islands (Italy) 9-25 Jun 2025: Volcanoes and Spices - Sulawesi/Halmahera (Indonesia) 3-17 Oct 2025: Volcanoes of Italy - the Grand Tour - Naples, Eolian Islands, Etna (Italy) 4-12 Oct 2025: From Stromboli to Etna - Sicily and Eolian Islands (Italy)\\n2025 has been off to a rocky start with natural disasters. Get an update on the volcanic eruptions happening around the world. In just the first two months of 2025, natural disasters have\\nJust 24 minutes ago, a 5.3-magnitude earthquake struck near San Francisco de Milagro, Cantón Milagro, Guayas, Ecuador. The tremor was recorded in the evening on Monday, January 13th, 2025, at 9:20 pm local time, at a moderately shallow depth of 50.1 km below the surface.\"}]"
      ]
     },
     "execution_count": 38,
     "metadata": {},
     "output_type": "execute_result"
    }
   ],
   "source": [
    "messages"
   ]
  },
  {
   "cell_type": "code",
   "execution_count": null,
   "metadata": {},
   "outputs": [],
   "source": []
  }
 ],
 "metadata": {
  "kernelspec": {
   "display_name": ".venv",
   "language": "python",
   "name": "python3"
  },
  "language_info": {
   "codemirror_mode": {
    "name": "ipython",
    "version": 3
   },
   "file_extension": ".py",
   "mimetype": "text/x-python",
   "name": "python",
   "nbconvert_exporter": "python",
   "pygments_lexer": "ipython3",
   "version": "3.12.7"
  }
 },
 "nbformat": 4,
 "nbformat_minor": 2
}
