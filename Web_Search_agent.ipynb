{
 "cells": [
  {
   "cell_type": "markdown",
   "metadata": {},
   "source": [
    "# 🔍 Building an AI-Powered Web Search Agent with OpenAI and Tavily 🚀\n",
    "\n",
    "Hey there! Welcome to this exciting guide where we'll create something awesome - a smart search agent that combines the power of OpenAI's language models with Tavily's search capabilities! 🌟 \n",
    "\n",
    "## 🎯 What We'll Build\n",
    "\n",
    "We're going to create a super cool search agent that can:\n",
    "1. 🌐 Search the web in real-time for accurate information\n",
    "2. 🧠 Use OpenAI's powerful GPT models to understand and process search results\n",
    "3. ⚡ Provide contextual and up-to-date responses to queries\n",
    "\n",
    "## ✅ Prerequisites\n",
    "\n",
    "Before we jump in, make sure you have these things ready:\n",
    "- 🔑 An OpenAI API key\n",
    "- 🎯 A Tavily API key (get one at tavily.com)\n",
    "\n",
    "## 🎮 Part 1: Setting Up Our Environment\n",
    "\n",
    "First things first - let's get our tools ready! We'll need to install the Tavily Python package to interact with their search API:\n"
   ]
  },
  {
   "cell_type": "code",
   "execution_count": 1,
   "metadata": {},
   "outputs": [
    {
     "name": "stdout",
     "output_type": "stream",
     "text": [
      "Requirement already satisfied: tavily-python in ./.venv/lib/python3.12/site-packages (0.5.1)\n",
      "Requirement already satisfied: requests in ./.venv/lib/python3.12/site-packages (from tavily-python) (2.32.3)\n",
      "Requirement already satisfied: tiktoken>=0.5.1 in ./.venv/lib/python3.12/site-packages (from tavily-python) (0.9.0)\n",
      "Requirement already satisfied: httpx in ./.venv/lib/python3.12/site-packages (from tavily-python) (0.28.1)\n",
      "Requirement already satisfied: regex>=2022.1.18 in ./.venv/lib/python3.12/site-packages (from tiktoken>=0.5.1->tavily-python) (2024.11.6)\n",
      "Requirement already satisfied: charset-normalizer<4,>=2 in ./.venv/lib/python3.12/site-packages (from requests->tavily-python) (3.4.1)\n",
      "Requirement already satisfied: idna<4,>=2.5 in ./.venv/lib/python3.12/site-packages (from requests->tavily-python) (3.10)\n",
      "Requirement already satisfied: urllib3<3,>=1.21.1 in ./.venv/lib/python3.12/site-packages (from requests->tavily-python) (2.3.0)\n",
      "Requirement already satisfied: certifi>=2017.4.17 in ./.venv/lib/python3.12/site-packages (from requests->tavily-python) (2025.1.31)\n",
      "Requirement already satisfied: anyio in ./.venv/lib/python3.12/site-packages (from httpx->tavily-python) (4.8.0)\n",
      "Requirement already satisfied: httpcore==1.* in ./.venv/lib/python3.12/site-packages (from httpx->tavily-python) (1.0.7)\n",
      "Requirement already satisfied: h11<0.15,>=0.13 in ./.venv/lib/python3.12/site-packages (from httpcore==1.*->httpx->tavily-python) (0.14.0)\n",
      "Requirement already satisfied: sniffio>=1.1 in ./.venv/lib/python3.12/site-packages (from anyio->httpx->tavily-python) (1.3.1)\n",
      "Requirement already satisfied: typing_extensions>=4.5 in ./.venv/lib/python3.12/site-packages (from anyio->httpx->tavily-python) (4.12.2)\n",
      "\n",
      "\u001b[1m[\u001b[0m\u001b[34;49mnotice\u001b[0m\u001b[1;39;49m]\u001b[0m\u001b[39;49m A new release of pip is available: \u001b[0m\u001b[31;49m24.2\u001b[0m\u001b[39;49m -> \u001b[0m\u001b[32;49m25.0.1\u001b[0m\n",
      "\u001b[1m[\u001b[0m\u001b[34;49mnotice\u001b[0m\u001b[1;39;49m]\u001b[0m\u001b[39;49m To update, run: \u001b[0m\u001b[32;49mpip install --upgrade pip\u001b[0m\n",
      "Note: you may need to restart the kernel to use updated packages.\n"
     ]
    }
   ],
   "source": [
    "%pip install tavily-python"
   ]
  },
  {
   "cell_type": "markdown",
   "metadata": {},
   "source": [
    "\n",
    "Now, let's set up our API keys (remember to keep these safe and never share them!):\n"
   ]
  },
  {
   "cell_type": "code",
   "execution_count": 2,
   "metadata": {},
   "outputs": [],
   "source": [
    "TAVILY_API = \"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\""
   ]
  },
  {
   "cell_type": "markdown",
   "metadata": {},
   "source": [
    "\n",
    "## 🛠️ Part 2: Building Our Search Tools\n",
    "\n",
    "Let's create the foundation of our search agent! We'll define a set of tools that our AI can use to search the web:"
   ]
  },
  {
   "cell_type": "code",
   "execution_count": 3,
   "metadata": {},
   "outputs": [],
   "source": [
    "import json\n",
    "from openai import OpenAI\n",
    "from tavily import TavilyClient"
   ]
  },
  {
   "cell_type": "code",
   "execution_count": 4,
   "metadata": {},
   "outputs": [
    {
     "data": {
      "text/plain": [
       "{'query': 'Whats the current weather in Tokyo',\n",
       " 'follow_up_questions': None,\n",
       " 'answer': None,\n",
       " 'images': [],\n",
       " 'results': [{'title': 'Weather in Tokyo',\n",
       "   'url': 'https://www.weatherapi.com/',\n",
       "   'content': \"{'location': {'name': 'Tokyo', 'region': 'Tokyo', 'country': 'Japan', 'lat': 35.6895, 'lon': 139.6917, 'tz_id': 'Asia/Tokyo', 'localtime_epoch': 1739879705, 'localtime': '2025-02-18 20:55'}, 'current': {'last_updated_epoch': 1739879100, 'last_updated': '2025-02-18 20:45', 'temp_c': 6.3, 'temp_f': 43.3, 'is_day': 0, 'condition': {'text': 'Partly cloudy', 'icon': '//cdn.weatherapi.com/weather/64x64/night/116.png', 'code': 1003}, 'wind_mph': 9.4, 'wind_kph': 15.1, 'wind_degree': 338, 'wind_dir': 'NNW', 'pressure_mb': 1010.0, 'pressure_in': 29.83, 'precip_mm': 0.13, 'precip_in': 0.01, 'humidity': 33, 'cloud': 75, 'feelslike_c': 3.3, 'feelslike_f': 38.0, 'windchill_c': 1.2, 'windchill_f': 34.2, 'heatindex_c': 4.6, 'heatindex_f': 40.3, 'dewpoint_c': -8.3, 'dewpoint_f': 17.0, 'vis_km': 10.0, 'vis_miles': 6.0, 'uv': 0.0, 'gust_mph': 11.9, 'gust_kph': 19.2}}\",\n",
       "   'score': 0.9543042,\n",
       "   'raw_content': None},\n",
       "  {'title': 'Weather in Tokyo in February 2025 (Tōkyō-to) - Detailed Weather ...',\n",
       "   'url': 'https://world-weather.info/forecast/japan/tokyo/february-2025/',\n",
       "   'content': \"Weather in Tokyo in February 2025 (Tōkyō-to) - Detailed Weather Forecast for a Month Add the current city Search Weather World Tōkyō-to Weather in Tokyo Weather in Tokyo in February 2025 Tokyo Weather Forecast for February 2025, is based on previous years' statistical data. February +50°+41° +48°+41° +50°+41° +50°+43° +48°+41° +50°+41° +52°+41° +50°+43° +50°+41° +50°+41° +50°+41° +50°+41° +52°+43° +54°+45° +54°+45° +50°+43° +52°+43° +52°+41° +54°+45° +54°+45° +52°+45° +54°+45° +54°+45° +52°+43° +52°+45° +54°+45° +52°+43° +52°+41° Extended weather forecast in Tokyo HourlyWeek10-Day14-Day30-DayYear Weather in large and nearby cities Kawaguchi+43° Fuchū+43° Kashiwa+45° Tokorozawa+41° Kasukabe+45° Ageo+43° Kawagoe+43° Yokohama+45° Machida+43° Kawasaki+46° Kodaira+41° Funabashi+45° Nerima+43° Sōka+43° Ichikawa+45° Matsudo+43° Koshigaya+43° Kami-renjaku+43° world's temperature today day day City or place… Copyright © 2024 «World-Weather.info» All rights reserved. Temperature units\",\n",
       "   'score': 0.8747745,\n",
       "   'raw_content': None},\n",
       "  {'title': 'Weather in Tokyo - Climate monitor on February 2025 - Weather and Climate',\n",
       "   'url': 'https://www.weatherandclimate.info/monitor/47662',\n",
       "   'content': 'WEATHER IN TOKYO Weather forecast in Tokyo Current weather in Tokyo Weather archive in Tokyo Weather history in Tokyo WEATHER IN TOKYO Weather in Tokyo. The table shows the main characteristics of weather in Tokyo - air temperature and precipitation shown for each day of february 2025. Monthly mean temperature normal for February: 6.7°C. The lowest minimum temperature (-0.6°C) recorded on February 6. The highest maximum temperature (12.2°C) recorded on February 1. The values of air temperature and precipitation in the table are given for the meteorological day, which starts in Tokyo at 12 h. For monitoring of weather in Tokyo, daily data is taken for the period 1953-2025 years. Monthly weather records',\n",
       "   'score': 0.8724455,\n",
       "   'raw_content': None},\n",
       "  {'title': 'Tokyo weather in February 2025 - METEOPROG.COM',\n",
       "   'url': 'https://www.meteoprog.com/weather/Tokyo/month/february/',\n",
       "   'content': 'Tokyo weather in February 2025 ⋆ Tokyo temperature in February ≡ Weather forecast in Japan | METEOPROG Weather in Japan Weather Widgets Русский (UA) Русский WEATHER 7-day Forecast Weather on a map Weather Widget Русский (UA) Русский 2 Weeks Tokyo weather in February 2025 February in Tokyo Max. temperature +22.7°C Min. temperature -10.2°C +5° +5° +2° 0° -3° +1° +2° -2° +5° -1° -2° -1° +1° +5° Weather Weather in Japan Monthly weather forecast in Tokyo Weather in February 2 Weeks Weather Widgets Editorial policy Hyperlink to Meteoprog.com is required when using materials from the site. The editorial staff of the project may not share the opinion of the authors and is not responsible for copyrighted materials. Русский (UA) Русский',\n",
       "   'score': 0.86441374,\n",
       "   'raw_content': None},\n",
       "  {'title': 'Tokyo weather in February 2025 | Japan: How hot? - Weather2Travel.com',\n",
       "   'url': 'https://www.weather2travel.com/japan/tokyo/february/',\n",
       "   'content': 'Tokyo weather in February 2025 | Japan: How hot? Holidays Tokyo weather in February 2025 Expect 10°C daytime maximum temperatures in the shade with on average 6 hours of sunshine per day in Tokyo in February. Check more long-term weather averages for Tokyo in February before you book your next holiday to Japan in 2025/2026. Summer holidays More holidays Travel Republic: Top deals on last minute holidays Boxing Day sales Handpicked travel deals & holiday discounts Where to go in 2025 Explore destinations to visit on holiday in 2025 We help you find the best travel deals for your holiday in the sun by sharing tips on when and where to go, before providing you with top discounts. Holidays',\n",
       "   'score': 0.8512743,\n",
       "   'raw_content': None}],\n",
       " 'response_time': 1.23}"
      ]
     },
     "execution_count": 4,
     "metadata": {},
     "output_type": "execute_result"
    }
   ],
   "source": [
    "# Initialize Tavily\n",
    "tavily = TavilyClient(api_key=TAVILY_API)\n",
    "\n",
    "# Search query\n",
    "query = \"Whats the current weather in Tokyo\"\n",
    "tavily.search(query, search_depth=\"basic\")"
   ]
  },
  {
   "cell_type": "code",
   "execution_count": 5,
   "metadata": {},
   "outputs": [],
   "source": [
    "TOOLS = [\n",
    "    {\n",
    "        \"type\": \"function\",\n",
    "        \"function\": {\n",
    "            \"name\": \"search_web\",\n",
    "            \"description\": \"Search the web for information\",\n",
    "            \"parameters\": {\n",
    "                \"type\": \"object\",\n",
    "                \"properties\": {\n",
    "                    \"query\": {\"type\": \"string\"}\n",
    "                },\n",
    "                \"required\": [\"query\"]\n",
    "            },\n",
    "        },\n",
    "    },\n",
    "]"
   ]
  },
  {
   "cell_type": "code",
   "execution_count": 6,
   "metadata": {},
   "outputs": [],
   "source": [
    "def search_web(query):\n",
    "    # Initialize Tavily\n",
    "    tavily = TavilyClient(api_key=TAVILY_API)\n",
    "    return \"\\n\".join(result[\"content\"] for result in tavily.search(query, search_depth=\"basic\")[\"results\"])"
   ]
  },
  {
   "cell_type": "code",
   "execution_count": 7,
   "metadata": {},
   "outputs": [
    {
     "data": {
      "text/plain": [
       "\"{'location': {'name': 'Tokyo', 'region': 'Tokyo', 'country': 'Japan', 'lat': 35.6895, 'lon': 139.6917, 'tz_id': 'Asia/Tokyo', 'localtime_epoch': 1739880049, 'localtime': '2025-02-18 21:00'}, 'current': {'last_updated_epoch': 1739880000, 'last_updated': '2025-02-18 21:00', 'temp_c': 6.3, 'temp_f': 43.3, 'is_day': 0, 'condition': {'text': 'Partly cloudy', 'icon': '//cdn.weatherapi.com/weather/64x64/night/116.png', 'code': 1003}, 'wind_mph': 11.9, 'wind_kph': 19.1, 'wind_degree': 351, 'wind_dir': 'N', 'pressure_mb': 1010.0, 'pressure_in': 29.83, 'precip_mm': 0.03, 'precip_in': 0.0, 'humidity': 39, 'cloud': 75, 'feelslike_c': 2.8, 'feelslike_f': 37.1, 'windchill_c': 0.8, 'windchill_f': 33.5, 'heatindex_c': 4.7, 'heatindex_f': 40.5, 'dewpoint_c': -9.5, 'dewpoint_f': 15.0, 'vis_km': 10.0, 'vis_miles': 6.0, 'uv': 0.0, 'gust_mph': 15.2, 'gust_kph': 24.4}}\\nWEATHER IN TOKYO Weather forecast in Tokyo Current weather in Tokyo Weather archive in Tokyo Weather history in Tokyo Weather summary in Tokyo WEATHER IN TOKYO Weather in Tokyo. The table shows the main characteristics of weather in Tokyo - air temperature and precipitation shown for each day of february 2025. Monthly mean temperature normal for February: 6.7°. The lowest minimum temperature (-0.6°) recorded on February 6. The values of air temperature and precipitation in the table are given for the meteorological day, which starts in Tokyo at 12 h. For monitoring of weather in Tokyo, daily data is taken for the period 1953-2025 years. Monthly data is taken for the period 1876-2025 years - air temperature, 1875-2025 years - precipitation. Monthly weather records\\nWeather in Tokyo in February 2025 (Tōkyō-to) - Detailed Weather Forecast for a Month Add the current city Search Weather World Tōkyō-to Weather in Tokyo Weather in Tokyo in February 2025 Tokyo Weather Forecast for February 2025, is based on previous years' statistical data. February +50°+41° +48°+41° +50°+41° +50°+43° +48°+41° +50°+41° +52°+41° +50°+43° +50°+41° +50°+41° +50°+41° +50°+41° +52°+43° +54°+45° +54°+45° +50°+43° +52°+43° +52°+41° +54°+45° +54°+45° +52°+45° +54°+45° +54°+45° +52°+43° +52°+45° +54°+45° +52°+43° +52°+41° Extended weather forecast in Tokyo HourlyWeek10-Day14-Day30-DayYear Weather in large and nearby cities Kawaguchi+43° Fuchū+43° Kashiwa+45° Tokorozawa+41° Kasukabe+45° Ageo+43° Kawagoe+43° Yokohama+45° Machida+43° Kawasaki+46° Kodaira+41° Funabashi+45° Nerima+43° Sōka+43° Ichikawa+45° Matsudo+43° Koshigaya+43° Kami-renjaku+43° world's temperature today day day City or place… Copyright © 2024 «World-Weather.info» All rights reserved. Temperature units\\nTokyo weather in February 2025 ⋆ Tokyo temperature in February ≡ Weather forecast in Japan | METEOPROG Weather in Japan Weather Widgets Русский (UA) Русский WEATHER 7-day Forecast Weather on a map Weather Widget Русский (UA) Русский 2 Weeks Tokyo weather in February 2025 February in Tokyo Max. temperature +22.7°C Min. temperature -10.2°C +5° +5° +2° 0° -3° +1° +2° -2° +5° -1° -2° -1° +1° +5° Weather Weather in Japan Monthly weather forecast in Tokyo Weather in February 2 Weeks Weather Widgets Editorial policy Hyperlink to Meteoprog.com is required when using materials from the site. The editorial staff of the project may not share the opinion of the authors and is not responsible for copyrighted materials. Русский (UA) Русский\\nTokyo weather in February 2025 | Tokyo 14 day weather Tokyo  Tokyo Tokyo weather in February 2025 🌨️ Snowy days in Tokyo 2025 (February) The average weather in Tokyo in February You can expect a few days of snow in Tokyo during February. | Tokyo in February | | Tokyo in May | Temperatures in Tokyo in February Weather in Tokyo in February - FAQ The average temperature in Tokyo in February is 3/10° C. On average, there are 6 rainy days in Tokyo during February. The weather in Tokyo in February is bad. On average, there are 5 snowy days in Tokyo in February. More about the weather in Tokyo\""
      ]
     },
     "execution_count": 7,
     "metadata": {},
     "output_type": "execute_result"
    }
   ],
   "source": [
    "search_web(\"What is the current weather in Tokyo\")"
   ]
  },
  {
   "cell_type": "markdown",
   "metadata": {},
   "source": [
    "\n",
    "## 🎓 Part 3: Creating Our AI Agent\n",
    "\n",
    "Now comes the exciting part! Let's create our AI agent that can understand questions and use our search tools to find answers:\n"
   ]
  },
  {
   "cell_type": "code",
   "execution_count": 8,
   "metadata": {},
   "outputs": [],
   "source": [
    "messages = [\n",
    "    {\"role\": \"user\", \"content\": \"What is the current weather in Tokyo\"}\n",
    "]"
   ]
  },
  {
   "cell_type": "code",
   "execution_count": 9,
   "metadata": {},
   "outputs": [],
   "source": [
    "def invoke_model(messages):\n",
    "    # Initialize the OpenAI client\n",
    "    client = OpenAI()\n",
    "\n",
    "    # Make a ChatGPT API call with tool calling\n",
    "    completion = client.chat.completions.create(\n",
    "        model=\"gpt-4o-mini\",\n",
    "        messages=messages\n",
    "    )\n",
    "\n",
    "    return completion.choices[0].message.content"
   ]
  },
  {
   "cell_type": "code",
   "execution_count": 10,
   "metadata": {},
   "outputs": [
    {
     "name": "stdout",
     "output_type": "stream",
     "text": [
      "As of now, the weather in Tokyo is partly cloudy with a temperature of approximately 6.3°C (43.3°F). It feels like 2.8°C (37.1°F) due to wind chill. The wind is coming from the north at about 11.9 mph (19.1 kph), and the humidity level is around 39%. Overall, visibility is good at 10 km (6 miles).\n",
      "\n",
      "If you need more detailed information or a forecast, let me know!\n"
     ]
    }
   ],
   "source": [
    "# Initialize the OpenAI client\n",
    "client = OpenAI()\n",
    "\n",
    "# Make a ChatGPT API call with tool calling\n",
    "completion = client.chat.completions.create(\n",
    "    model=\"gpt-4o-mini\",\n",
    "    tools=TOOLS,\n",
    "    messages=messages\n",
    ")\n",
    "\n",
    "response = completion.choices[0].message\n",
    "\n",
    "# Parse the response to get the tool call arguments\n",
    "if response.tool_calls:\n",
    "    # Process each tool call\n",
    "    for tool_call in response.tool_calls:\n",
    "        # Get the tool call arguments\n",
    "        tool_call_arguments = json.loads(tool_call.function.arguments)\n",
    "        if tool_call.function.name == \"search_web\":\n",
    "            search_results = search_web(tool_call_arguments[\"query\"])\n",
    "            messages.append({\"role\": \"assistant\", \"content\": f\"Here are the search results: {search_results}\"})\n",
    "            print(invoke_model(messages))\n",
    "\n",
    "else:\n",
    "    # If there are no tool calls, return the response content\n",
    "    print(response.content)"
   ]
  }
 ],
 "metadata": {
  "kernelspec": {
   "display_name": ".venv",
   "language": "python",
   "name": "python3"
  },
  "language_info": {
   "codemirror_mode": {
    "name": "ipython",
    "version": 3
   },
   "file_extension": ".py",
   "mimetype": "text/x-python",
   "name": "python",
   "nbconvert_exporter": "python",
   "pygments_lexer": "ipython3",
   "version": "3.12.7"
  }
 },
 "nbformat": 4,
 "nbformat_minor": 2
}
